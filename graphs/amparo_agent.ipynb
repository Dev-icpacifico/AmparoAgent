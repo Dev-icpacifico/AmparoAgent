{
 "cells": [
  {
   "cell_type": "code",
   "id": "initial_id",
   "metadata": {
    "collapsed": true,
    "ExecuteTime": {
     "end_time": "2025-03-03T19:13:39.955902Z",
     "start_time": "2025-03-03T19:13:37.240194Z"
    }
   },
   "source": [
    "from langgraph.graph import StateGraph, START, END, MessagesState\n",
    "from langchain_openai import ChatOpenAI\n",
    "from IPython.display import display, Image\n"
   ],
   "outputs": [],
   "execution_count": 1
  },
  {
   "metadata": {
    "ExecuteTime": {
     "end_time": "2025-03-03T20:03:07.151662Z",
     "start_time": "2025-03-03T20:03:07.132570Z"
    }
   },
   "cell_type": "code",
   "source": [
    "from dotenv import find_dotenv, load_dotenv\n",
    "\n",
    "dotenv_path = find_dotenv()  # Encuentra la ruta del archivo .env\n",
    "load_dotenv(dotenv_path)  # Carga las variables de entorno desde el archivo .env"
   ],
   "id": "5d89f95ccb066a25",
   "outputs": [
    {
     "data": {
      "text/plain": [
       "True"
      ]
     },
     "execution_count": 6,
     "metadata": {},
     "output_type": "execute_result"
    }
   ],
   "execution_count": 6
  },
  {
   "metadata": {
    "ExecuteTime": {
     "end_time": "2025-03-03T19:14:11.271296Z",
     "start_time": "2025-03-03T19:14:11.267741Z"
    }
   },
   "cell_type": "code",
   "source": [
    "class State(MessagesState):\n",
    "    pregunta: str"
   ],
   "id": "e9598c8ac3e8c2d8",
   "outputs": [],
   "execution_count": 2
  },
  {
   "metadata": {
    "ExecuteTime": {
     "end_time": "2025-03-03T19:14:13.094245Z",
     "start_time": "2025-03-03T19:14:13.091203Z"
    }
   },
   "cell_type": "code",
   "source": [
    "# Primer nodo con la consulta al pago de sueldos\n",
    "def consulta_sueldos(state: dict):\n",
    "    \"\"\"Agente encargado de responder sobre las fechas de pago de remuneraciones\"\"\"\n",
    "    pregunta = state.get(\"pregunta\", \"\").lower()  # 🔹 Corregido para usar .get()\n",
    "\n",
    "    if \"fecha de pago\" in pregunta:\n",
    "        return {\"pregunta\": \"Las fechas de pago de sueldos son el 30 de cada mes\"}\n",
    "\n",
    "    return {\"pregunta\": \"Lo siento, no puedo responder a esa consulta.\"}\n",
    "\n"
   ],
   "id": "5b9f05006b97f479",
   "outputs": [],
   "execution_count": 3
  },
  {
   "metadata": {},
   "cell_type": "code",
   "outputs": [],
   "execution_count": null,
   "source": [
    "# Segundo nodo para buscar infomación en internet respecto a los beneficios de caja los andes o programa construye tranquilo de la camara chilena de la construcción\n",
    "\n",
    "def agent_beneficios(state: MessagesState):\n",
    "    \"\"\"Este agente se encargará de buscar información en internet acerca de los beneficios de los trabajadores\"\"\"\n",
    "    \n",
    "    "
   ],
   "id": "8eae1a5b9ac752e0"
  },
  {
   "metadata": {
    "ExecuteTime": {
     "end_time": "2025-03-03T19:14:15.448796Z",
     "start_time": "2025-03-03T19:14:15.274232Z"
    }
   },
   "cell_type": "code",
   "source": [
    "# Crear el flujo del grafo\n",
    "workflow = StateGraph(State)\n",
    "\n",
    "# Agregar nodos al grafo\n",
    "workflow.add_node(\"consulta_sueldos\", consulta_sueldos)\n",
    "\n",
    "# Definir flujo de nodos\n",
    "workflow.add_edge(START, \"consulta_sueldos\")\n",
    "workflow.add_edge(\"consulta_sueldos\", END)\n",
    "\n",
    "# Compilar el grafo\n",
    "graph = workflow.compile()\n",
    "\n",
    "# Mostrar el grafo en una imagen\n",
    "display(Image(graph.get_graph().draw_mermaid_png()))"
   ],
   "id": "39dd9eb664e3d914",
   "outputs": [
    {
     "data": {
      "image/png": "[encoded data removed]",
      "text/plain": [
       "<IPython.core.display.Image object>"
      ]
     },
     "metadata": {},
     "output_type": "display_data"
    }
   ],
   "execution_count": 4
  },
  {
   "metadata": {
    "ExecuteTime": {
     "end_time": "2025-03-03T19:14:34.894590Z",
     "start_time": "2025-03-03T19:14:34.888061Z"
    }
   },
   "cell_type": "code",
   "source": [
    "estado_inicial = {\"pregunta\": \"¿Cual es mi nombre?\"}  # 🔹 Ahora es un diccionario\n",
    "response = graph.invoke(estado_inicial)\n",
    "print(response[\"pregunta\"])  # 🔹 Accede correctamente a la respuesta"
   ],
   "id": "a444350b2c4468a8",
   "outputs": [
    {
     "name": "stdout",
     "output_type": "stream",
     "text": [
      "Lo siento, no puedo responder a esa consulta.\n"
     ]
    }
   ],
   "execution_count": 5
  }
 ],
 "metadata": {
  "kernelspec": {
   "display_name": "Python 3",
   "language": "python",
   "name": "python3"
  },
  "language_info": {
   "codemirror_mode": {
    "name": "ipython",
    "version": 2
   },
   "file_extension": ".py",
   "mimetype": "text/x-python",
   "name": "python",
   "nbconvert_exporter": "python",
   "pygments_lexer": "ipython2",
   "version": "2.7.6"
  }
 },
 "nbformat": 4,
 "nbformat_minor": 5
}
